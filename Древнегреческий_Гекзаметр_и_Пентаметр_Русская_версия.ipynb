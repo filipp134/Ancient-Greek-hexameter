{
  "nbformat": 4,
  "nbformat_minor": 0,
  "metadata": {
    "colab": {
      "name": "Древнегреческий Гекзаметр и Пентаметр Русская версия.ipynb",
      "provenance": [],
      "collapsed_sections": [],
      "include_colab_link": true
    },
    "kernelspec": {
      "name": "python3",
      "display_name": "Python 3"
    }
  },
  "cells": [
    {
      "cell_type": "markdown",
      "metadata": {
        "id": "view-in-github",
        "colab_type": "text"
      },
      "source": [
        "<a href=\"https://colab.research.google.com/github/filipp134/Ancient-Greek-hexameter/blob/main/%D0%94%D1%80%D0%B5%D0%B2%D0%BD%D0%B5%D0%B3%D1%80%D0%B5%D1%87%D0%B5%D1%81%D0%BA%D0%B8%D0%B9_%D0%93%D0%B5%D0%BA%D0%B7%D0%B0%D0%BC%D0%B5%D1%82%D1%80_%D0%B8_%D0%9F%D0%B5%D0%BD%D1%82%D0%B0%D0%BC%D0%B5%D1%82%D1%80_%D0%A0%D1%83%D1%81%D1%81%D0%BA%D0%B0%D1%8F_%D0%B2%D0%B5%D1%80%D1%81%D0%B8%D1%8F.ipynb\" target=\"_parent\"><img src=\"https://colab.research.google.com/assets/colab-badge.svg\" alt=\"Open In Colab\"/></a>"
      ]
    },
    {
      "cell_type": "markdown",
      "metadata": {
        "id": "lFzGligyXQU-"
      },
      "source": [
        "l1 означает лист с местами долгих гласных и дифтонгов, l2 - коротких гласных, l3 - неопределённых гласных и дифтонгов. lc - лист-сумма l1, l2, l3 . l4 - лист привязка слогов с обозначением его длины."
      ]
    },
    {
      "cell_type": "markdown",
      "metadata": {
        "id": "OvP-AEkgDYD7"
      },
      "source": [
        "sv означает короткие гласные. lv oзначает длинные гласные. bv означает те гласные, которые могут быть и длинными и короткими. sdi означает короткие дифтонги, ldi - длинные дифтонги. co -   coгласные. shcoco - сочитание из гласной из bv и 2-мя согласными"
      ]
    },
    {
      "cell_type": "code",
      "metadata": {
        "colab": {
          "base_uri": "https://localhost:8080/"
        },
        "id": "rKw9vEuEKjDb",
        "outputId": "36a489a0-23c0-4e8a-e9d5-bd45d3b66531"
      },
      "source": [
        "#Я импортирую библиотеки, которые мне необходимы.\n",
        "import sys\n",
        "import importlib\n",
        "importlib.reload(sys) \n",
        "import re\n",
        "import unicodedata\n",
        "#Я определяю функцию, ответственную за то, чтобы убрать диакритические знаки.\n",
        "def strip_accents(s):\n",
        "   return ''.join(c for c in unicodedata.normalize('NFD', s)\n",
        "                  if unicodedata.category(c) != 'Mn')\n",
        "\n",
        "def help():\n",
        "\tprint('usage: python ./remove_accents.py polytonic_file monotonic_file')\n",
        "\ttext=str(\"Ὦ κοινὸν αὐτάδελφον Ἰσμήνης κάρα,\")\n",
        "\tprint(strip_accents(text))\n",
        "\tsys.exit(1)\n",
        "        \n",
        "def main(args):\n",
        "\tif len(sys.argv) >=3:\n",
        "\t\tf= open(sys.argv[1], 'r')\t\t\n",
        "\t\ttext= str(f.read())\n",
        "\t\tf.close()\n",
        "\t\tf= open(sys.argv[2], 'w')\n",
        "\t\tf.write(strip_accents(text))\n",
        "\t\tf.close()\n",
        "\telse:\n",
        "\t\thelp()\n",
        "#Я определяю наборы разных букв и их комбинации.\n",
        "sv = ['ε', 'ο']\n",
        "lv = ['η','ω']\n",
        "bv = ['α', 'ι', 'υ']\n",
        "sdi = ['ει', 'αι', 'οι', 'υι']\n",
        "ldi = ['αυ', 'ου', 'ηυ']\n",
        "co = ['β', 'γ', 'δ','ζ', 'θ', 'κ', 'ξ', 'π','ς','σ', 'τ', 'φ', 'χ', 'ψ','λ', 'μ', 'ν', 'ρ']\n",
        "shcoco = []\n",
        "for i in bv:\n",
        "    for j in co:\n",
        "        for k in co:\n",
        "            shcoco.append(i + j + k)\n",
        "for i in sv:\n",
        "    for j in co:\n",
        "        for k in co:\n",
        "            shcoco.append(i + j + k)\n",
        "def formater(x):\n",
        "  ''' Эта функция убирает диакритические и пунктационные знаки, возвращая линию прописными буквами. '''\n",
        "  x1 = strip_accents(x)\n",
        "  x2 = x1.replace(' ', '').replace(',', '').replace('.', '')\n",
        "  x3 = x2.replace('·', '').replace(';', '')\n",
        "  x = x3.lower()\n",
        "  return x\n",
        "def find_all(a_str, sub):\n",
        "    ''' Эта функция ищет повторяющиеся буквы и их комбинации в строке.  '''\n",
        "    start = 0\n",
        "    li = []\n",
        "    while True:\n",
        "        start = a_str.find(sub, start)\n",
        "        if start != -1:\n",
        "            li.append(start)\n",
        "        else:\n",
        "            break\n",
        "        start += len(sub)\n",
        "    return li\n",
        "def diftongs_deleter(i, l):\n",
        "  ''' Эта функция убирает дифтонги в строке, чтобы они не считались отдельными гласными. '''\n",
        "  lcopy1 = l[:i]\n",
        "  lcopy2 = l[i+2:]\n",
        "  line = lcopy1 + '  ' + lcopy2\n",
        "  return line\n",
        "#Я прошу пользователя ввести строку и форматирую её.\n",
        "line = input('Введите строку гекзаметра или пентаметра без синезесы и нажмите Enter:')\n",
        "linear = line\n",
        "line = formater(line)\n",
        "#Я ищу места встречи разных гласных и дифтонгов и сортирую их по их длине.\n",
        "l1 = []\n",
        "l2 = []\n",
        "l3 = []\n",
        "lcopy = line\n",
        "for i in ldi:\n",
        "    l1 += find_all(line, i)\n",
        "for i in shcoco:\n",
        "    l1 += find_all(line, i)\n",
        "for i in sdi:\n",
        "    l3 += find_all(line, i)\n",
        "for i in l1:\n",
        "    line = diftongs_deleter(i, line)\n",
        "for i in l3:\n",
        "    line = diftongs_deleter(i, line)\n",
        "for i in lv:\n",
        "    l1 += find_all(line, i)\n",
        "for i in sv:\n",
        "    l2 += find_all(line, i)\n",
        "for i in bv:\n",
        "    l2 += find_all(line, i)\n",
        "line = lcopy\n",
        "lc = l1 + l2 + l3\n",
        "lc.sort()\n",
        "l4 = []\n",
        "for i in lc:\n",
        "    for j in l1:\n",
        "        if i == j:\n",
        "            l4.append(line[i-1:i+2] + ': длинный; ')\n",
        "    for j in l2:\n",
        "        if i == j:\n",
        "            l4.append(line[i-1:i+2] + ' : короткий; ')\n",
        "    for j in l3:\n",
        "        if i == j:\n",
        "            l4.append(line[i-1:i+2] + ' : неопределимый; ')\n",
        "#Я вывожу результат программы\n",
        "print(\"Линия: \", linear)\n",
        "j = 1\n",
        "for i in l4:\n",
        "      print(str(j), i)\n",
        "      j += 1"
      ],
      "execution_count": 12,
      "outputs": [
        {
          "output_type": "stream",
          "text": [
            "Введите строку гекзаметра без синезесы и нажмите Enter:ἄνδρα μοι ἔννεπε, μοῦσα, πολύτροπον, ὃς μάλα πολλὰ\n",
            "Линия:  ἄνδρα μοι ἔννεπε, μοῦσα, πολύτροπον, ὃς μάλα πολλὰ\n",
            "1 : длинный; \n",
            "2 ραμ : короткий; \n",
            "3 μοι : неопределимый; \n",
            "4 ιεν: длинный; \n",
            "5 νεπ : короткий; \n",
            "6 πεμ : короткий; \n",
            "7 μου: длинный; \n",
            "8 σαπ : короткий; \n",
            "9 πολ : короткий; \n",
            "10 λυτ: длинный; \n",
            "11 ροπ : короткий; \n",
            "12 πον : короткий; \n",
            "13 νος: длинный; \n",
            "14 μαλ : короткий; \n",
            "15 λαπ : короткий; \n",
            "16 πολ: длинный; \n",
            "17 λα : короткий; \n"
          ],
          "name": "stdout"
        }
      ]
    }
  ]
}