{
  "nbformat": 4,
  "nbformat_minor": 0,
  "metadata": {
    "colab": {
      "name": "Ancient Greek hexameter and pentameter English Version.ipynb",
      "provenance": [],
      "collapsed_sections": [],
      "include_colab_link": true
    },
    "kernelspec": {
      "name": "python3",
      "display_name": "Python 3"
    }
  },
  "cells": [
    {
      "cell_type": "markdown",
      "metadata": {
        "id": "view-in-github",
        "colab_type": "text"
      },
      "source": [
        "<a href=\"https://colab.research.google.com/github/filipp134/Ancient-Greek-hexameter/blob/main/Ancient_Greek_hexameter_and_pentameter_English_Version.ipynb\" target=\"_parent\"><img src=\"https://colab.research.google.com/assets/colab-badge.svg\" alt=\"Open In Colab\"/></a>"
      ]
    },
    {
      "cell_type": "markdown",
      "metadata": {
        "id": "OvP-AEkgDYD7"
      },
      "source": [
        "sv means the short vowels. lv means the long vowels. bv means the vowels that can be both long and short. sdi means short diphtongs, ldi - long diphtongs. co - consonants. shcoco - the mix of the short vowel and  2 consonants."
      ]
    },
    {
      "cell_type": "markdown",
      "metadata": {
        "id": "lFzGligyXQU-"
      },
      "source": [
        "l1 stands for list with numbers of long vowels and diftongs , l2 - short vowels, l3 - undetectable vowels and diftongs. lc is the list of all vowels and diphtongs. l4 is the list of the vowels and diphtongs with assignment concerning the length of the syllable."
      ]
    },
    {
      "cell_type": "code",
      "metadata": {
        "colab": {
          "base_uri": "https://localhost:8080/"
        },
        "id": "9j0ISeivDruF",
        "outputId": "fdd169f5-541e-418b-fd1a-d3575174598b"
      },
      "source": [
        "#I import libraries needed\n",
        "import sys\n",
        "import importlib\n",
        "importlib.reload(sys) \n",
        "import re\n",
        "import unicodedata\n",
        "#I define functions for the elimination of the diacritic marks\n",
        "def strip_accents(s):\n",
        "   return ''.join(c for c in unicodedata.normalize('NFD', s)\n",
        "                  if unicodedata.category(c) != 'Mn')\n",
        "\n",
        "def help():\n",
        "\tprint('usage: python ./remove_accents.py polytonic_file monotonic_file')\n",
        "\ttext=str(\"Ὦ κοινὸν αὐτάδελφον Ἰσμήνης κάρα,\")\n",
        "\tprint(strip_accents(text))\n",
        "\tsys.exit(1)\n",
        "        \n",
        "def main(args):\n",
        "\tif len(sys.argv) >=3:\n",
        "\t\tf= open(sys.argv[1], 'r')\t\t\n",
        "\t\ttext= str(f.read())\n",
        "\t\tf.close()\n",
        "\t\tf= open(sys.argv[2], 'w')\n",
        "\t\tf.write(strip_accents(text))\n",
        "\t\tf.close()\n",
        "\telse:\n",
        "\t\thelp()\n",
        "#I define the sets of different letters and combinations\n",
        "sv = ['ε', 'ο']\n",
        "lv = ['η','ω']\n",
        "bv = ['α', 'ι', 'υ']\n",
        "sdi = ['ει', 'αι', 'οι', 'υι']\n",
        "ldi = ['αυ', 'ου', 'ηυ']\n",
        "co = ['β', 'γ', 'δ','ζ', 'θ', 'κ', 'ξ', 'π','ς','σ', 'τ', 'φ', 'χ', 'ψ','λ', 'μ', 'ν', 'ρ']\n",
        "shcoco = []\n",
        "for i in bv:\n",
        "    for j in co:\n",
        "        for k in co:\n",
        "            shcoco.append(i + j + k)\n",
        "for i in sv:\n",
        "    for j in co:\n",
        "        for k in co:\n",
        "            shcoco.append(i + j + k)\n",
        "def formater(x):\n",
        "  ''' This function strips accents and removes punctuation marks, returning the line\n",
        "  with all low letters. '''\n",
        "  x1 = strip_accents(x)\n",
        "  x2 = x1.replace(' ', '').replace(',', '').replace('.', '')\n",
        "  x3 = x2.replace('·', '').replace(';', '')\n",
        "  x = x3.lower()\n",
        "  return x\n",
        "def find_all(a_str, sub):\n",
        "    ''' This function searches for the repeated signs in strings  '''\n",
        "    start = 0\n",
        "    li = []\n",
        "    while True:\n",
        "        start = a_str.find(sub, start)\n",
        "        if start != -1:\n",
        "            li.append(start)\n",
        "        else:\n",
        "            break\n",
        "        start += len(sub)\n",
        "    return li\n",
        "def diftongs_deleter(i, l):\n",
        "  ''' I delete diftongs in string so that they wouldn't be counted as single \n",
        "  vowels '''\n",
        "  lcopy1 = l[:i]\n",
        "  lcopy2 = l[i+2:]\n",
        "  line = lcopy1 + '  ' + lcopy2\n",
        "  return line\n",
        "#I ask the user to insert the line and formate it\n",
        "line = input('Insert the line of hexametеr or pentameter and press Enter:')\n",
        "linear = line\n",
        "line = formater(line)\n",
        "l1 = []\n",
        "l2 = []\n",
        "l3 = []\n",
        "lcopy = line\n",
        "for i in ldi:\n",
        "    l1 += find_all(line, i)\n",
        "for i in shcoco:\n",
        "    l1 += find_all(line, i)\n",
        "for i in sdi:\n",
        "    l3 += find_all(line, i)\n",
        "for i in l1:\n",
        "    line = diftongs_deleter(i, line)\n",
        "for i in l3:\n",
        "    line = diftongs_deleter(i, line)\n",
        "for i in lv:\n",
        "    l1 += find_all(line, i)\n",
        "for i in sv:\n",
        "    l2 += find_all(line, i)\n",
        "for i in bv:\n",
        "    l2 += find_all(line, i)\n",
        "line = lcopy\n",
        "lc = l1 + l2 + l3\n",
        "lc.sort()\n",
        "l4 = []\n",
        "for i in lc:\n",
        "    for j in l1:\n",
        "        if i == j:\n",
        "            l4.append(line[i-1:i+2] + ': long; ')\n",
        "    for j in l2:\n",
        "        if i == j:\n",
        "            l4.append(line[i-1:i+2] + ' : short; ')\n",
        "    for j in l3:\n",
        "        if i == j:\n",
        "            l4.append(line[i-1:i+2] + ' : undetectable; ')\n",
        "print(\"The line: \", linear)\n",
        "j = 1\n",
        "for i in l4:\n",
        "      print(str(j), i)\n",
        "      j += 1"
      ],
      "execution_count": 2,
      "outputs": [
        {
          "output_type": "stream",
          "text": [
            "Введите линию гекзаметра без синезесы и нажмите Enter:ἄνδρα μοι ἔννεπε, μοῦσα, πολύτροπον, ὃς μάλα πολλὰ\n",
            "The line:  ἄνδρα μοι ἔννεπε, μοῦσα, πολύτροπον, ὃς μάλα πολλὰ\n",
            "1 : long; \n",
            "2 ραμ : short; \n",
            "3 μοι : undetectable; \n",
            "4 ιεν: long; \n",
            "5 νεπ : short; \n",
            "6 πεμ : short; \n",
            "7 μου: long; \n",
            "8 σαπ : short; \n",
            "9 πολ : short; \n",
            "10 λυτ: long; \n",
            "11 ροπ : short; \n",
            "12 πον : short; \n",
            "13 νος: long; \n",
            "14 μαλ : short; \n",
            "15 λαπ : short; \n",
            "16 πολ: long; \n",
            "17 λα : short; \n"
          ],
          "name": "stdout"
        }
      ]
    }
  ]
}